{
 "cells": [
  {
   "cell_type": "markdown",
   "id": "4b25d53d",
   "metadata": {},
   "source": [
    "#learn about python numpy and installing numpy\n"
   ]
  },
  {
   "cell_type": "code",
   "execution_count": 1,
   "id": "23b5a838",
   "metadata": {},
   "outputs": [],
   "source": [
    "import numpy as np"
   ]
  },
  {
   "cell_type": "markdown",
   "id": "d86ca9ee",
   "metadata": {},
   "source": [
    "##creating arrays \n"
   ]
  },
  {
   "cell_type": "code",
   "execution_count": 3,
   "id": "bb862a5d",
   "metadata": {},
   "outputs": [
    {
     "name": "stdout",
     "output_type": "stream",
     "text": [
      "[1 2 3 4 5]\n",
      "[[1 2 3]\n",
      " [4 5 6]]\n"
     ]
    }
   ],
   "source": [
    "print_1d_array=np.array([1, 2, 3, 4, 5])\n",
    "print(print_1d_array)\n",
    "array2d=np.array([[1, 2, 3], [4, 5, 6]])\n",
    "print(array2d)"
   ]
  },
  {
   "cell_type": "markdown",
   "id": "2db5b6b2",
   "metadata": {},
   "source": [
    "#list vs array"
   ]
  },
  {
   "cell_type": "code",
   "execution_count": 6,
   "id": "f39c994b",
   "metadata": {},
   "outputs": [
    {
     "name": "stdout",
     "output_type": "stream",
     "text": [
      "[1, 2, 3, 4, 5, 1, 2, 3, 4, 5]\n",
      "[2 4 6]\n",
      "ss\n"
     ]
    }
   ],
   "source": [
    "printmultiplication=[1, 2, 3, 4, 5]\n",
    "print(printmultiplication * 2)\n",
    "\n",
    "printNPmultiplication=np.array([1, 2, 3])\n",
    "print(printNPmultiplication * 2)\n",
    "\n",
    "s=\"s\"\n",
    "\n",
    "print(s*2)"
   ]
  },
  {
   "cell_type": "code",
   "execution_count": 11,
   "id": "ace158b7",
   "metadata": {},
   "outputs": [
    {
     "name": "stdout",
     "output_type": "stream",
     "text": [
      "[ 0  1  2  3  4  5  6  7  8  9 10 11 12 13 14 15 16 17 18 19]\n",
      "List creation time: 1.7119905948638916\n",
      "Numpy array creation time: 1.7576303482055664\n"
     ]
    }
   ],
   "source": [
    "created_list_array=np.arange(20)\n",
    "print(created_list_array)\n",
    "\n",
    "\n",
    "import time as t\n",
    "\n",
    "start_time=t.time()\n",
    "\n",
    "list_array=[i*2 for i in range (1000000)]\n",
    "print(\"List creation time:\", t.time() - start_time)\n",
    "\n",
    "\n",
    "\n",
    "NP_array=np.arange(1000000) * 2\n",
    "print(\"Numpy array creation time:\", t.time() - start_time)\n"
   ]
  },
  {
   "cell_type": "markdown",
   "id": "6f6aaca3",
   "metadata": {},
   "source": [
    "###creating array from scratch"
   ]
  },
  {
   "cell_type": "code",
   "execution_count": 14,
   "id": "7d4411ef",
   "metadata": {},
   "outputs": [
    {
     "name": "stdout",
     "output_type": "stream",
     "text": [
      "[[0. 0. 0.]\n",
      " [0. 0. 0.]]\n",
      "[[1. 1. 1. 1.]\n",
      " [1. 1. 1. 1.]]\n",
      "[[8 8]\n",
      " [8 8]]\n",
      "[[9.24002921 2.40097613 1.95281102 4.94469429]\n",
      " [5.08988059 1.47364519 3.65690027 6.80359291]]\n",
      "[ 0  3  6  9 12 15 18]\n"
     ]
    }
   ],
   "source": [
    "zeros = np.zeros((2, 3))\n",
    "print(zeros)\n",
    "\n",
    "\n",
    "ones = np.ones((2, 4))\n",
    "print(ones)\n",
    "\n",
    "full = np.full((2, 2), 8)\n",
    "print(full)\n",
    "\n",
    "randarr =np.random.random((2, 4))*10\n",
    "print(randarr)\n",
    "\n",
    "\n",
    "seq = np.arange(0, 21, 3)\n",
    "print(seq)"
   ]
  },
  {
   "cell_type": "markdown",
   "id": "4106fed2",
   "metadata": {},
   "source": [
    "\n",
    "vector, matrix, tensor"
   ]
  },
  {
   "cell_type": "code",
   "execution_count": 20,
   "id": "81ca4476",
   "metadata": {},
   "outputs": [
    {
     "name": "stdout",
     "output_type": "stream",
     "text": [
      "[1 2 3]\n",
      "[[1 2 3]\n",
      " [4 5 6]]\n",
      "[[[1 2]\n",
      "  [3 4]]\n",
      "\n",
      " [[5 6]\n",
      "  [7 8]]]\n"
     ]
    }
   ],
   "source": [
    "vector =np.array([1, 2, 3])\n",
    "print(vector)\n",
    "\n",
    "matrix =np.array([[1, 2, 3], [4, 5, 6]])\n",
    "print(matrix)\n",
    "\n",
    "tensor=np.array([[[1, 2], [3, 4]],\n",
    "                [[5, 6], [7, 8]]])\n",
    "\n",
    "print(tensor)"
   ]
  },
  {
   "cell_type": "markdown",
   "id": "6d813bb1",
   "metadata": {},
   "source": [
    "###array properties"
   ]
  },
  {
   "cell_type": "code",
   "execution_count": 22,
   "id": "7861d209",
   "metadata": {},
   "outputs": [
    {
     "name": "stdout",
     "output_type": "stream",
     "text": [
      "(2, 3)\n",
      "2\n",
      "6\n",
      "int64\n"
     ]
    }
   ],
   "source": [
    "arr =np.array([[1, 2, 3], [4, 5, 6]])\n",
    "\n",
    "shape=arr.shape\n",
    "dimension =arr.ndim\n",
    "size =arr.size\n",
    "dtype =arr.dtype\n",
    "\n",
    "print(shape)\n",
    "print(dimension)\n",
    "print(size)\n",
    "print(dtype)"
   ]
  },
  {
   "cell_type": "markdown",
   "id": "c05cb211",
   "metadata": {},
   "source": [
    "array reshaping"
   ]
  },
  {
   "cell_type": "code",
   "execution_count": 39,
   "id": "ec78e56f",
   "metadata": {},
   "outputs": [
    {
     "name": "stdout",
     "output_type": "stream",
     "text": [
      "[1 2 3 4 5 1 2 3 4 5 6 7]\n",
      "[[1 2 3 4]\n",
      " [5 1 2 3]\n",
      " [4 5 6 7]]\n",
      "[1 2 3 4 5 1 2 3 4 5 6 7]\n",
      "[1 2 3 4 5 6]\n",
      "[[1 5 4]\n",
      " [2 1 5]\n",
      " [3 2 6]\n",
      " [4 3 7]]\n"
     ]
    }
   ],
   "source": [
    "arrSec =np.array((1, 2, 3, 4, 5, 1, 2, 3, 4, 5, 6, 7))\n",
    "\n",
    "arrReshape=arrSec.reshape((3, 4))\n",
    "arrFlat=arrReshape.flatten()\n",
    "arrRaveled =arr.ravel()\n",
    "transpose=arrReshape.T\n",
    "print(arrSec)\n",
    "print(arrReshape)\n",
    "print(arrFlat)\n",
    "print(arrRaveled)\n",
    "print(transpose)\n"
   ]
  }
 ],
 "metadata": {
  "kernelspec": {
   "display_name": ".venv",
   "language": "python",
   "name": "python3"
  },
  "language_info": {
   "codemirror_mode": {
    "name": "ipython",
    "version": 3
   },
   "file_extension": ".py",
   "mimetype": "text/x-python",
   "name": "python",
   "nbconvert_exporter": "python",
   "pygments_lexer": "ipython3",
   "version": "3.13.5"
  }
 },
 "nbformat": 4,
 "nbformat_minor": 5
}
