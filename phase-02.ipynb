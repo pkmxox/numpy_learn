{
 "cells": [
  {
   "cell_type": "markdown",
   "id": "ba04a9ff",
   "metadata": {},
   "source": [
    "1d array slicing"
   ]
  },
  {
   "cell_type": "code",
   "execution_count": 2,
   "id": "f70bc296",
   "metadata": {},
   "outputs": [],
   "source": [
    "import numpy as np"
   ]
  },
  {
   "cell_type": "code",
   "execution_count": 3,
   "id": "a3be357a",
   "metadata": {},
   "outputs": [
    {
     "name": "stdout",
     "output_type": "stream",
     "text": [
      "[4 5 6]\n",
      "[3 5 7]\n",
      "7\n"
     ]
    }
   ],
   "source": [
    "arr_1d =np.array([1, 2, 3, 4, 5, 6, 7, 8, 9])\n",
    "print(arr_1d[3:6])\n",
    "print(arr_1d[2:8:2])\n",
    "print(arr_1d[-3])"
   ]
  },
  {
   "cell_type": "markdown",
   "id": "345c36e3",
   "metadata": {},
   "source": [
    "2d_array slicing"
   ]
  },
  {
   "cell_type": "code",
   "execution_count": null,
   "id": "d1eccd60",
   "metadata": {},
   "outputs": [
    {
     "name": "stdout",
     "output_type": "stream",
     "text": [
      "6\n",
      "[7 8 9]\n",
      "[2 5 8]\n"
     ]
    }
   ],
   "source": [
    "arr_2d=np.array([[1, 2, 3],\n",
    "        [4, 5, 6],\n",
    "        [7, 8, 9]])\n",
    "\n",
    "print(arr_2d[1, 2])\n",
    "print(arr_2d[2])\n",
    "print(arr_2d[:, 1])"
   ]
  },
  {
   "cell_type": "markdown",
   "id": "9e3f17c8",
   "metadata": {},
   "source": [
    "###sorting"
   ]
  },
  {
   "cell_type": "code",
   "execution_count": 17,
   "id": "d68a7a20",
   "metadata": {},
   "outputs": [
    {
     "name": "stdout",
     "output_type": "stream",
     "text": [
      "[1 1 2 2 4 4 5 6 7 8 8 9]\n",
      "[[17  4 12]\n",
      " [23 45 56]\n",
      " [41 70 67]\n",
      " [92 88 83]]\n",
      "\n",
      "[[17 45 83]\n",
      " [ 4 67 92]\n",
      " [23 56 88]\n",
      " [12 41 70]]\n"
     ]
    }
   ],
   "source": [
    "arr_sort_1d =np.array([1, 2, 1, 4, 5, 2, 8, 8, 9, 4, 6, 7])\n",
    "print(np.sort(arr_sort_1d))\n",
    "\n",
    "#multi dimensional array sort\n",
    "\n",
    "arr_sort_2d= np.array([[17, 45, 83],\n",
    " [92, 4, 67],\n",
    " [23, 88, 56],\n",
    " [41, 70, 12]])\n",
    "\n",
    "print(np.sort(arr_sort_2d, axis=0))\n",
    "print()\n",
    "print(np.sort(arr_sort_2d, axis=1))"
   ]
  },
  {
   "cell_type": "markdown",
   "id": "e3c16b35",
   "metadata": {},
   "source": [
    "filter"
   ]
  },
  {
   "cell_type": "code",
   "execution_count": 18,
   "id": "7b75bc6c",
   "metadata": {},
   "outputs": [
    {
     "name": "stdout",
     "output_type": "stream",
     "text": [
      "[2 4 2 8 8 4 6]\n"
     ]
    }
   ],
   "source": [
    "arr_filter =np.array([1, 2, 1, 4, 5, 2, 8, 8, 9, 4, 6, 7])\n",
    "print(arr_filter[arr_filter %2==0])"
   ]
  },
  {
   "cell_type": "markdown",
   "id": "2e529f07",
   "metadata": {},
   "source": [
    "filter with mask"
   ]
  },
  {
   "cell_type": "code",
   "execution_count": 7,
   "id": "65b974ef",
   "metadata": {},
   "outputs": [
    {
     "name": "stdout",
     "output_type": "stream",
     "text": [
      "[1 2 1 4 2 4]\n"
     ]
    }
   ],
   "source": [
    "arr_filter =np.array([1, 2, 1, 4, 5, 2, 8, 8, 9, 4, 6, 7])\n",
    "mask = arr_filter<5\n",
    "print(arr_filter[mask])"
   ]
  },
  {
   "cell_type": "markdown",
   "id": "02c1ebca",
   "metadata": {},
   "source": [
    "fancy indexing vs where()"
   ]
  },
  {
   "cell_type": "code",
   "execution_count": 9,
   "id": "1c30402b",
   "metadata": {},
   "outputs": [
    {
     "name": "stdout",
     "output_type": "stream",
     "text": [
      "[1 1 5]\n",
      "[5 8 8 9 6 7]\n"
     ]
    }
   ],
   "source": [
    "ind =[0, 2, 4]\n",
    "print(arr_filter[ind])\n",
    "\n",
    "where_res =np.where(arr_filter>4)\n",
    "print(arr_filter[where_res])\n",
    "\n"
   ]
  },
  {
   "cell_type": "code",
   "execution_count": 21,
   "id": "7443476d",
   "metadata": {},
   "outputs": [
    {
     "name": "stdout",
     "output_type": "stream",
     "text": [
      "[4 5 4 5 2 5 9 9 4 5 8 8]\n"
     ]
    }
   ],
   "source": [
    "arr_filter =np.array([1, 2, 1, 4, 5, 2, 8, 8, 9, 4, 6, 7])\n",
    "condition_arr=np.where(arr_filter<=2, arr_filter+2, arr_filter)\n",
    "print(arr_filter[condition_arr])"
   ]
  },
  {
   "cell_type": "markdown",
   "id": "b00a4058",
   "metadata": {},
   "source": [
    "adding and removing data"
   ]
  },
  {
   "cell_type": "code",
   "execution_count": 22,
   "id": "0daa9d66",
   "metadata": {},
   "outputs": [
    {
     "name": "stdout",
     "output_type": "stream",
     "text": [
      "[1 2 3 5 4 9]\n"
     ]
    }
   ],
   "source": [
    "arr_1=np.array([1, 2, 3])\n",
    "arr_2=np.array([5, 4, 9])\n",
    "\n",
    "combine=np.concatenate((arr_1, arr_2))\n",
    "print(combine)"
   ]
  },
  {
   "cell_type": "markdown",
   "id": "9c9e852c",
   "metadata": {},
   "source": [
    "array compatiablity"
   ]
  },
  {
   "cell_type": "code",
   "execution_count": 26,
   "id": "96b9f4dd",
   "metadata": {},
   "outputs": [
    {
     "name": "stdout",
     "output_type": "stream",
     "text": [
      "first result  True second result  False\n"
     ]
    }
   ],
   "source": [
    "a=np.array([1, 2, 3])\n",
    "b=np.array([5, 4, 9])\n",
    "c=np.array([5, 4, 9, 7])\n",
    "\n",
    "result = a.shape==b.shape\n",
    "result2 = b.shape==c.shape\n",
    "print(\"first result \", result, \"second result \", result2)"
   ]
  },
  {
   "cell_type": "code",
   "execution_count": 28,
   "id": "5e5be49f",
   "metadata": {},
   "outputs": [
    {
     "name": "stdout",
     "output_type": "stream",
     "text": [
      "[[1 2 3]\n",
      " [5 4 6]\n",
      " [7 8 9]]\n",
      "[[1 2 3 7]\n",
      " [5 4 6 8]]\n"
     ]
    }
   ],
   "source": [
    "ogArr= np.array([[1, 2, 3], [5 ,4, 6]])\n",
    "new_arr=np.array([[7, 8, 9]])\n",
    "new_col_arr=np.array([[7], [8]])\n",
    "\n",
    "new_row =np.vstack((ogArr, new_arr))\n",
    "print(new_row)\n",
    "\n",
    "new_col =np.hstack((ogArr, new_col_arr))\n",
    "print(new_col)"
   ]
  },
  {
   "cell_type": "code",
   "execution_count": 29,
   "id": "ef7c1a52",
   "metadata": {},
   "outputs": [
    {
     "name": "stdout",
     "output_type": "stream",
     "text": [
      "[1 2 3 4 6]\n"
     ]
    }
   ],
   "source": [
    "deleteArr= np.array([1, 2, 3, 5 ,4, 6])\n",
    "\n",
    "delete=np.delete(deleteArr, 3)\n",
    "print(delete)"
   ]
  }
 ],
 "metadata": {
  "kernelspec": {
   "display_name": "base",
   "language": "python",
   "name": "python3"
  },
  "language_info": {
   "codemirror_mode": {
    "name": "ipython",
    "version": 3
   },
   "file_extension": ".py",
   "mimetype": "text/x-python",
   "name": "python",
   "nbconvert_exporter": "python",
   "pygments_lexer": "ipython3",
   "version": "3.13.5"
  }
 },
 "nbformat": 4,
 "nbformat_minor": 5
}
