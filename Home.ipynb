{
 "cells": [
  {
   "cell_type": "code",
   "execution_count": 1,
   "id": "d215034c-8fde-4898-9662-ad759b289324",
   "metadata": {},
   "outputs": [],
   "source": [
    "#learning jupyter"
   ]
  },
  {
   "cell_type": "code",
   "execution_count": 2,
   "id": "a4bbd30d-18a5-4b9f-bc22-43da1b5deb1f",
   "metadata": {},
   "outputs": [
    {
     "name": "stdout",
     "output_type": "stream",
     "text": [
      "hello world\n"
     ]
    }
   ],
   "source": [
    "print(\"hello world\")"
   ]
  },
  {
   "cell_type": "code",
   "execution_count": 1,
   "id": "2d4cff84-f26a-4d45-a3df-a4fd54b34b24",
   "metadata": {},
   "outputs": [
    {
     "name": "stdout",
     "output_type": "stream",
     "text": [
      "hello world 2 with vscode\n"
     ]
    }
   ],
   "source": [
    "print(\"hello world 2 with vscode\")"
   ]
  },
  {
   "cell_type": "code",
   "execution_count": null,
   "id": "a7a5331a",
   "metadata": {},
   "outputs": [],
   "source": []
  }
 ],
 "metadata": {
  "kernelspec": {
   "display_name": ".venv",
   "language": "python",
   "name": "python3"
  },
  "language_info": {
   "codemirror_mode": {
    "name": "ipython",
    "version": 3
   },
   "file_extension": ".py",
   "mimetype": "text/x-python",
   "name": "python",
   "nbconvert_exporter": "python",
   "pygments_lexer": "ipython3",
   "version": "3.13.5"
  }
 },
 "nbformat": 4,
 "nbformat_minor": 5
}
